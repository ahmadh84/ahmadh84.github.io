{
 "cells": [
  {
   "cell_type": "code",
   "execution_count": 35,
   "id": "4ca9698c",
   "metadata": {},
   "outputs": [],
   "source": [
    "####################################################################\n",
    "# Machine Learning Primer - Workshop\n",
    "# Day 1 - September 2021\n",
    "####################################################################\n",
    "\n",
    "from typing import Tuple\n",
    "\n",
    "import numpy as np"
   ]
  },
  {
   "cell_type": "code",
   "execution_count": 43,
   "id": "bb89bead",
   "metadata": {},
   "outputs": [],
   "source": [
    "# data structures (no explicit type)\n",
    "\n",
    "# ints / floats / str\n",
    "my_int = 10\n",
    "my_float = 3.14159265359\n",
    "my_str = \"Bahria\"\n",
    "\n",
    "# lists\n",
    "my_list_ints = [2, 0, 2, 1, 0, 9]\n",
    "my_list_strs = [\"I\", \"hope\", \"this\", \"workshop\", \"is\", \"useful\"]\n",
    "\n",
    "# dictionaries\n",
    "my_dict = {\"bahria\": 1, \"university\": 2}\n",
    "my_dict = my_dict = dict(bahria=1, university=2)\n",
    "my_dict2 = {1: \"bahria\", 2: \"university\"}"
   ]
  },
  {
   "cell_type": "code",
   "execution_count": 28,
   "id": "9e228eb0",
   "metadata": {},
   "outputs": [
    {
     "name": "stdout",
     "output_type": "stream",
     "text": [
      "10\n",
      "{'bahria': 1, 'university': 2}\n",
      "The value of pi: 3.14.\n",
      "We are at Bahria\n"
     ]
    }
   ],
   "source": [
    "# printing ...\n",
    "print(my_int)\n",
    "print(my_dict)\n",
    "\n",
    "# C/C++ style formatting printing\n",
    "print(f\"The value of pi: {my_float:.2f}.\\nWe are at {my_str}\")"
   ]
  },
  {
   "cell_type": "code",
   "execution_count": 29,
   "id": "5565c7a7",
   "metadata": {},
   "outputs": [
    {
     "name": "stdout",
     "output_type": "stream",
     "text": [
      "for loop over list\n",
      "2\n",
      "0\n",
      "2\n",
      "1\n",
      "0\n",
      "9\n",
      "\n",
      "get its index too\n",
      "0 2\n",
      "1 0\n",
      "2 2\n",
      "3 1\n",
      "4 0\n",
      "5 9\n",
      "\n",
      "list comprehension\n",
      "[20, 0, 20, 10, 0, 90]\n",
      "\n",
      "append to list\n",
      "[2, 0, 2, 1, 0, 9, 10, 30, 40]\n"
     ]
    }
   ],
   "source": [
    "print(\"for loop over list\")\n",
    "for x in my_list_ints:\n",
    "    print(x)\n",
    "\n",
    "print(\"\\nget its index too\")\n",
    "for idx, x in enumerate(my_list_ints):\n",
    "    print(idx, x)\n",
    "    \n",
    "print(\"\\nlist comprehension\")\n",
    "print([x * 10 for x in my_list_ints])\n",
    "\n",
    "print(\"\\nappend to list\")\n",
    "my_list_ints.append(10)\n",
    "my_list_ints += [30, 40]\n",
    "print(my_list_ints)"
   ]
  },
  {
   "cell_type": "code",
   "execution_count": 33,
   "id": "26e22fc1",
   "metadata": {},
   "outputs": [
    {
     "name": "stdout",
     "output_type": "stream",
     "text": [
      "key: 1,  value: bahria\n",
      "key: 2,  value: university\n",
      "university\n"
     ]
    }
   ],
   "source": [
    "# iterating over dictionaries\n",
    "for key, value in my_dict2.items():\n",
    "    print(f\"key: {key},  value: {value}\")\n",
    "    \n",
    "# accessing dictionary\n",
    "print(my_dict2[2])"
   ]
  },
  {
   "cell_type": "code",
   "execution_count": 30,
   "id": "145553a8",
   "metadata": {},
   "outputs": [
    {
     "name": "stdout",
     "output_type": "stream",
     "text": [
      "0\n",
      "1\n",
      "2\n",
      "3\n",
      "4\n",
      "5\n",
      "6\n",
      "7\n",
      "8\n",
      "9\n"
     ]
    }
   ],
   "source": [
    "# loop for 10 iterations\n",
    "for idx in range(10):\n",
    "    print(idx)"
   ]
  },
  {
   "cell_type": "code",
   "execution_count": 31,
   "id": "6f430e1c",
   "metadata": {},
   "outputs": [
    {
     "name": "stdout",
     "output_type": "stream",
     "text": [
      "30\n",
      "ahmadh\n",
      "(-10, 200)\n",
      "(-24, 180)\n"
     ]
    }
   ],
   "source": [
    "# a function\n",
    "def foo(a, b):\n",
    "    return a + b\n",
    "\n",
    "# you can also define the function with type-hints\n",
    "# (this is just to guide the reader)\n",
    "def foo2(a: int, b: int) -> int:\n",
    "    return a + b\n",
    "\n",
    "print(foo2(10, 20))\n",
    "print(foo2(\"ahmad\", \"h\"))\n",
    "\n",
    "# function can return multiple values\n",
    "def foo3(a: int, b: int) -> Tuple[int, int]:\n",
    "    return a - b, a * b\n",
    "\n",
    "print(foo3(10, 20))\n",
    "\n",
    "# you can explicitly specify arguments\n",
    "print(foo3(b=30, a=6))"
   ]
  },
  {
   "cell_type": "code",
   "execution_count": 42,
   "id": "5590adcb",
   "metadata": {},
   "outputs": [
    {
     "name": "stdout",
     "output_type": "stream",
     "text": [
      "1D array (vector)\n",
      "[1 2 5 6]\n",
      "\n",
      "2D matrix\n",
      "[[ 1  2  5  6]\n",
      " [10 20 50 60]]\n",
      "\n",
      "point-wise multiplication\n",
      "[ 1  4 25 36]\n",
      "\n",
      "Matrix multiplication\n",
      "[ 66 660]\n",
      "\n",
      "Matrix transpose\n",
      "[[ 1 10]\n",
      " [ 2 20]\n",
      " [ 5 50]\n",
      " [ 6 60]]\n"
     ]
    }
   ],
   "source": [
    "# some numpy\n",
    "\n",
    "print(\"1D array (vector)\")\n",
    "array1 = np.array([1, 2, 5, 6])\n",
    "print(array1)\n",
    "\n",
    "print(\"\\n2D matrix\")\n",
    "array2 = np.array(\n",
    "    [\n",
    "        [1,   2,  5,  6],\n",
    "        [10, 20, 50, 60],\n",
    "    ]\n",
    ")\n",
    "print(array2)\n",
    "\n",
    "print(\"\\npoint-wise multiplication\")\n",
    "print(array1 * array1)\n",
    "\n",
    "print(\"\\nMatrix multiplication\")\n",
    "print(np.matmul(array2, array1))\n",
    "\n",
    "print(\"\\nMatrix transpose\")\n",
    "print(array2.T)"
   ]
  },
  {
   "cell_type": "code",
   "execution_count": 47,
   "id": "97c76e00",
   "metadata": {},
   "outputs": [
    {
     "name": "stdout",
     "output_type": "stream",
     "text": [
      "generate random uniform numbers\n",
      "[[8.71440575 4.74622298 5.61467213]\n",
      " [0.08854486 2.49600243 7.15639036]]\n",
      "\n",
      "generate random normally distributed numbers\n",
      "[[-17.83126306  12.05792292  17.2952638    1.84914418]\n",
      " [  4.35294562  26.65765896   4.99793961  -3.58953506]]\n"
     ]
    }
   ],
   "source": [
    "print(\"generate random uniform numbers\")\n",
    "print(np.random.uniform(low=0, high=10, size=(2, 3)))\n",
    "\n",
    "print(\"\\ngenerate random normally distributed numbers\")\n",
    "print(np.random.normal(loc=0, scale=10, size=(2, 4)))"
   ]
  },
  {
   "cell_type": "code",
   "execution_count": null,
   "id": "56d4d3f6",
   "metadata": {},
   "outputs": [],
   "source": []
  }
 ],
 "metadata": {
  "kernelspec": {
   "display_name": "Python 3 (ipykernel)",
   "language": "python",
   "name": "python3"
  },
  "language_info": {
   "codemirror_mode": {
    "name": "ipython",
    "version": 3
   },
   "file_extension": ".py",
   "mimetype": "text/x-python",
   "name": "python",
   "nbconvert_exporter": "python",
   "pygments_lexer": "ipython3",
   "version": "3.7.5"
  }
 },
 "nbformat": 4,
 "nbformat_minor": 5
}
